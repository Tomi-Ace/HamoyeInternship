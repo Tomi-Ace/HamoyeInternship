{
 "cells": [
  {
   "cell_type": "markdown",
   "metadata": {},
   "source": [
    "## Fuel Quality Dataset\n",
    "\n",
    "### Introduction\n",
    "Electric Utilities report a huge amount of information to government and public agencies. They include very granular data on fuel burned, electricity generated, power plant usage patterns, plant capacity factors and emissions from greenhouse gases. However, this data is not well documented and sometimes they are provided in a format that makes it difficult to understand. The dataset can be <a href = https://bit.ly/HDSC-StageOneDataset>found here.</a>   \n",
    "\n",
    "### Problem Statement\n",
    "The goal of this project is to clean, wrangle, explore, provide summary statistics and interesting visualization on the dataset given."
   ]
  },
  {
   "cell_type": "code",
   "execution_count": 1,
   "metadata": {},
   "outputs": [],
   "source": [
    "#Import libraries\n",
    "import pandas as pd\n",
    "import numpy as np\n",
    "from scipy import stats\n",
    "import matplotlib as mpl\n",
    "import matplotlib.pyplot as plt\n",
    "mpl.style.use('ggplot')\n",
    "%matplotlib inline\n",
    "import seaborn as sns"
   ]
  },
  {
   "cell_type": "code",
   "execution_count": 2,
   "metadata": {},
   "outputs": [],
   "source": [
    "#Read the dataset into dataframe\n",
    "fuel_qual = pd.read_csv('fuel_ferc1.csv')"
   ]
  },
  {
   "cell_type": "code",
   "execution_count": 3,
   "metadata": {},
   "outputs": [
    {
     "data": {
      "text/html": [
       "<div>\n",
       "<style scoped>\n",
       "    .dataframe tbody tr th:only-of-type {\n",
       "        vertical-align: middle;\n",
       "    }\n",
       "\n",
       "    .dataframe tbody tr th {\n",
       "        vertical-align: top;\n",
       "    }\n",
       "\n",
       "    .dataframe thead th {\n",
       "        text-align: right;\n",
       "    }\n",
       "</style>\n",
       "<table border=\"1\" class=\"dataframe\">\n",
       "  <thead>\n",
       "    <tr style=\"text-align: right;\">\n",
       "      <th></th>\n",
       "      <th>record_id</th>\n",
       "      <th>utility_id_ferc1</th>\n",
       "      <th>report_year</th>\n",
       "      <th>plant_name_ferc1</th>\n",
       "      <th>fuel_type_code_pudl</th>\n",
       "      <th>fuel_unit</th>\n",
       "      <th>fuel_qty_burned</th>\n",
       "      <th>fuel_mmbtu_per_unit</th>\n",
       "      <th>fuel_cost_per_unit_burned</th>\n",
       "      <th>fuel_cost_per_unit_delivered</th>\n",
       "      <th>fuel_cost_per_mmbtu</th>\n",
       "    </tr>\n",
       "  </thead>\n",
       "  <tbody>\n",
       "    <tr>\n",
       "      <th>0</th>\n",
       "      <td>f1_fuel_1994_12_1_0_7</td>\n",
       "      <td>1</td>\n",
       "      <td>1994</td>\n",
       "      <td>rockport</td>\n",
       "      <td>coal</td>\n",
       "      <td>ton</td>\n",
       "      <td>5377489</td>\n",
       "      <td>16.590</td>\n",
       "      <td>18.59</td>\n",
       "      <td>18.53</td>\n",
       "      <td>1.121</td>\n",
       "    </tr>\n",
       "    <tr>\n",
       "      <th>1</th>\n",
       "      <td>f1_fuel_1994_12_1_0_10</td>\n",
       "      <td>1</td>\n",
       "      <td>1994</td>\n",
       "      <td>rockport total plant</td>\n",
       "      <td>coal</td>\n",
       "      <td>ton</td>\n",
       "      <td>10486945</td>\n",
       "      <td>16.592</td>\n",
       "      <td>18.58</td>\n",
       "      <td>18.53</td>\n",
       "      <td>1.120</td>\n",
       "    </tr>\n",
       "    <tr>\n",
       "      <th>2</th>\n",
       "      <td>f1_fuel_1994_12_2_0_1</td>\n",
       "      <td>2</td>\n",
       "      <td>1994</td>\n",
       "      <td>gorgas</td>\n",
       "      <td>coal</td>\n",
       "      <td>ton</td>\n",
       "      <td>2978683</td>\n",
       "      <td>24.130</td>\n",
       "      <td>39.72</td>\n",
       "      <td>38.12</td>\n",
       "      <td>1.650</td>\n",
       "    </tr>\n",
       "    <tr>\n",
       "      <th>3</th>\n",
       "      <td>f1_fuel_1994_12_2_0_7</td>\n",
       "      <td>2</td>\n",
       "      <td>1994</td>\n",
       "      <td>barry</td>\n",
       "      <td>coal</td>\n",
       "      <td>ton</td>\n",
       "      <td>3739484</td>\n",
       "      <td>23.950</td>\n",
       "      <td>47.21</td>\n",
       "      <td>45.99</td>\n",
       "      <td>1.970</td>\n",
       "    </tr>\n",
       "    <tr>\n",
       "      <th>4</th>\n",
       "      <td>f1_fuel_1994_12_2_0_10</td>\n",
       "      <td>2</td>\n",
       "      <td>1994</td>\n",
       "      <td>chickasaw</td>\n",
       "      <td>gas</td>\n",
       "      <td>mcf</td>\n",
       "      <td>40533</td>\n",
       "      <td>1.000</td>\n",
       "      <td>2.77</td>\n",
       "      <td>2.77</td>\n",
       "      <td>2.570</td>\n",
       "    </tr>\n",
       "  </tbody>\n",
       "</table>\n",
       "</div>"
      ],
      "text/plain": [
       "                record_id  utility_id_ferc1  report_year  \\\n",
       "0   f1_fuel_1994_12_1_0_7                 1         1994   \n",
       "1  f1_fuel_1994_12_1_0_10                 1         1994   \n",
       "2   f1_fuel_1994_12_2_0_1                 2         1994   \n",
       "3   f1_fuel_1994_12_2_0_7                 2         1994   \n",
       "4  f1_fuel_1994_12_2_0_10                 2         1994   \n",
       "\n",
       "       plant_name_ferc1 fuel_type_code_pudl fuel_unit  fuel_qty_burned  \\\n",
       "0              rockport                coal       ton          5377489   \n",
       "1  rockport total plant                coal       ton         10486945   \n",
       "2                gorgas                coal       ton          2978683   \n",
       "3                 barry                coal       ton          3739484   \n",
       "4             chickasaw                 gas       mcf            40533   \n",
       "\n",
       "   fuel_mmbtu_per_unit  fuel_cost_per_unit_burned  \\\n",
       "0               16.590                      18.59   \n",
       "1               16.592                      18.58   \n",
       "2               24.130                      39.72   \n",
       "3               23.950                      47.21   \n",
       "4                1.000                       2.77   \n",
       "\n",
       "   fuel_cost_per_unit_delivered  fuel_cost_per_mmbtu  \n",
       "0                         18.53                1.121  \n",
       "1                         18.53                1.120  \n",
       "2                         38.12                1.650  \n",
       "3                         45.99                1.970  \n",
       "4                          2.77                2.570  "
      ]
     },
     "execution_count": 3,
     "metadata": {},
     "output_type": "execute_result"
    }
   ],
   "source": [
    "fuel_qual.head()"
   ]
  },
  {
   "cell_type": "code",
   "execution_count": 4,
   "metadata": {},
   "outputs": [
    {
     "name": "stdout",
     "output_type": "stream",
     "text": [
      "All features of the fuel quality dataset:\n",
      "\n",
      "  Index(['record_id', 'utility_id_ferc1', 'report_year', 'plant_name_ferc1',\n",
      "       'fuel_type_code_pudl', 'fuel_unit', 'fuel_qty_burned',\n",
      "       'fuel_mmbtu_per_unit', 'fuel_cost_per_unit_burned',\n",
      "       'fuel_cost_per_unit_delivered', 'fuel_cost_per_mmbtu'],\n",
      "      dtype='object')\n"
     ]
    }
   ],
   "source": [
    "print('All features of the fuel quality dataset:\\n\\n ',fuel_qual.columns)"
   ]
  },
  {
   "cell_type": "code",
   "execution_count": 5,
   "metadata": {},
   "outputs": [
    {
     "name": "stdout",
     "output_type": "stream",
     "text": [
      "Data dimension:  (29523, 11)\n"
     ]
    }
   ],
   "source": [
    "print('Data dimension: ', fuel_qual.shape)"
   ]
  },
  {
   "cell_type": "code",
   "execution_count": 6,
   "metadata": {},
   "outputs": [
    {
     "name": "stdout",
     "output_type": "stream",
     "text": [
      "Are there any duplicated rows?  False\n"
     ]
    }
   ],
   "source": [
    "print('Are there any duplicated rows? ',fuel_qual.duplicated().any())"
   ]
  },
  {
   "cell_type": "code",
   "execution_count": 7,
   "metadata": {},
   "outputs": [
    {
     "data": {
      "text/html": [
       "<div>\n",
       "<style scoped>\n",
       "    .dataframe tbody tr th:only-of-type {\n",
       "        vertical-align: middle;\n",
       "    }\n",
       "\n",
       "    .dataframe tbody tr th {\n",
       "        vertical-align: top;\n",
       "    }\n",
       "\n",
       "    .dataframe thead th {\n",
       "        text-align: right;\n",
       "    }\n",
       "</style>\n",
       "<table border=\"1\" class=\"dataframe\">\n",
       "  <thead>\n",
       "    <tr style=\"text-align: right;\">\n",
       "      <th></th>\n",
       "      <th>utility_id_ferc1</th>\n",
       "      <th>report_year</th>\n",
       "      <th>fuel_qty_burned</th>\n",
       "      <th>fuel_mmbtu_per_unit</th>\n",
       "      <th>fuel_cost_per_unit_burned</th>\n",
       "      <th>fuel_cost_per_unit_delivered</th>\n",
       "      <th>fuel_cost_per_mmbtu</th>\n",
       "    </tr>\n",
       "  </thead>\n",
       "  <tbody>\n",
       "    <tr>\n",
       "      <th>count</th>\n",
       "      <td>29523.000000</td>\n",
       "      <td>29523.000000</td>\n",
       "      <td>2.952300e+04</td>\n",
       "      <td>29523.000000</td>\n",
       "      <td>29523.000000</td>\n",
       "      <td>2.952300e+04</td>\n",
       "      <td>29523.000000</td>\n",
       "    </tr>\n",
       "    <tr>\n",
       "      <th>mean</th>\n",
       "      <td>118.601836</td>\n",
       "      <td>2005.806050</td>\n",
       "      <td>2.622119e+06</td>\n",
       "      <td>8.492111</td>\n",
       "      <td>208.649031</td>\n",
       "      <td>9.175704e+02</td>\n",
       "      <td>19.304354</td>\n",
       "    </tr>\n",
       "    <tr>\n",
       "      <th>std</th>\n",
       "      <td>74.178353</td>\n",
       "      <td>7.025483</td>\n",
       "      <td>9.118004e+06</td>\n",
       "      <td>10.600220</td>\n",
       "      <td>2854.490090</td>\n",
       "      <td>6.877593e+04</td>\n",
       "      <td>2091.540939</td>\n",
       "    </tr>\n",
       "    <tr>\n",
       "      <th>min</th>\n",
       "      <td>1.000000</td>\n",
       "      <td>1994.000000</td>\n",
       "      <td>1.000000e+00</td>\n",
       "      <td>0.000001</td>\n",
       "      <td>-276.080000</td>\n",
       "      <td>-8.749370e+02</td>\n",
       "      <td>-41.501000</td>\n",
       "    </tr>\n",
       "    <tr>\n",
       "      <th>25%</th>\n",
       "      <td>55.000000</td>\n",
       "      <td>2000.000000</td>\n",
       "      <td>1.381700e+04</td>\n",
       "      <td>1.024000</td>\n",
       "      <td>5.207000</td>\n",
       "      <td>3.778500e+00</td>\n",
       "      <td>1.940000</td>\n",
       "    </tr>\n",
       "    <tr>\n",
       "      <th>50%</th>\n",
       "      <td>122.000000</td>\n",
       "      <td>2006.000000</td>\n",
       "      <td>2.533220e+05</td>\n",
       "      <td>5.762694</td>\n",
       "      <td>26.000000</td>\n",
       "      <td>1.737100e+01</td>\n",
       "      <td>4.127000</td>\n",
       "    </tr>\n",
       "    <tr>\n",
       "      <th>75%</th>\n",
       "      <td>176.000000</td>\n",
       "      <td>2012.000000</td>\n",
       "      <td>1.424034e+06</td>\n",
       "      <td>17.006000</td>\n",
       "      <td>47.113000</td>\n",
       "      <td>4.213700e+01</td>\n",
       "      <td>7.745000</td>\n",
       "    </tr>\n",
       "    <tr>\n",
       "      <th>max</th>\n",
       "      <td>514.000000</td>\n",
       "      <td>2018.000000</td>\n",
       "      <td>5.558942e+08</td>\n",
       "      <td>341.260000</td>\n",
       "      <td>139358.000000</td>\n",
       "      <td>7.964521e+06</td>\n",
       "      <td>359278.000000</td>\n",
       "    </tr>\n",
       "  </tbody>\n",
       "</table>\n",
       "</div>"
      ],
      "text/plain": [
       "       utility_id_ferc1   report_year  fuel_qty_burned  fuel_mmbtu_per_unit  \\\n",
       "count      29523.000000  29523.000000     2.952300e+04         29523.000000   \n",
       "mean         118.601836   2005.806050     2.622119e+06             8.492111   \n",
       "std           74.178353      7.025483     9.118004e+06            10.600220   \n",
       "min            1.000000   1994.000000     1.000000e+00             0.000001   \n",
       "25%           55.000000   2000.000000     1.381700e+04             1.024000   \n",
       "50%          122.000000   2006.000000     2.533220e+05             5.762694   \n",
       "75%          176.000000   2012.000000     1.424034e+06            17.006000   \n",
       "max          514.000000   2018.000000     5.558942e+08           341.260000   \n",
       "\n",
       "       fuel_cost_per_unit_burned  fuel_cost_per_unit_delivered  \\\n",
       "count               29523.000000                  2.952300e+04   \n",
       "mean                  208.649031                  9.175704e+02   \n",
       "std                  2854.490090                  6.877593e+04   \n",
       "min                  -276.080000                 -8.749370e+02   \n",
       "25%                     5.207000                  3.778500e+00   \n",
       "50%                    26.000000                  1.737100e+01   \n",
       "75%                    47.113000                  4.213700e+01   \n",
       "max                139358.000000                  7.964521e+06   \n",
       "\n",
       "       fuel_cost_per_mmbtu  \n",
       "count         29523.000000  \n",
       "mean             19.304354  \n",
       "std            2091.540939  \n",
       "min             -41.501000  \n",
       "25%               1.940000  \n",
       "50%               4.127000  \n",
       "75%               7.745000  \n",
       "max          359278.000000  "
      ]
     },
     "execution_count": 7,
     "metadata": {},
     "output_type": "execute_result"
    }
   ],
   "source": [
    "#Summary statistics of the numerical features\n",
    "fuel_qual.describe()"
   ]
  },
  {
   "cell_type": "markdown",
   "metadata": {},
   "source": [
    "Reading the above summary statistics above, it can be clearly seen that all the features includes outliers (wide margin outliers) except the *report_year*. Having that in mind, I selected all the columns from my dataframe, dropped the report_year and visualized them using a boxplot."
   ]
  },
  {
   "cell_type": "code",
   "execution_count": 8,
   "metadata": {},
   "outputs": [
    {
     "data": {
      "text/html": [
       "<div>\n",
       "<style scoped>\n",
       "    .dataframe tbody tr th:only-of-type {\n",
       "        vertical-align: middle;\n",
       "    }\n",
       "\n",
       "    .dataframe tbody tr th {\n",
       "        vertical-align: top;\n",
       "    }\n",
       "\n",
       "    .dataframe thead th {\n",
       "        text-align: right;\n",
       "    }\n",
       "</style>\n",
       "<table border=\"1\" class=\"dataframe\">\n",
       "  <thead>\n",
       "    <tr style=\"text-align: right;\">\n",
       "      <th></th>\n",
       "      <th>utility_id_ferc1</th>\n",
       "      <th>fuel_qty_burned</th>\n",
       "      <th>fuel_mmbtu_per_unit</th>\n",
       "      <th>fuel_cost_per_unit_burned</th>\n",
       "      <th>fuel_cost_per_unit_delivered</th>\n",
       "      <th>fuel_cost_per_mmbtu</th>\n",
       "    </tr>\n",
       "  </thead>\n",
       "  <tbody>\n",
       "    <tr>\n",
       "      <th>0</th>\n",
       "      <td>1</td>\n",
       "      <td>5377489</td>\n",
       "      <td>16.590</td>\n",
       "      <td>18.59</td>\n",
       "      <td>18.53</td>\n",
       "      <td>1.121</td>\n",
       "    </tr>\n",
       "    <tr>\n",
       "      <th>1</th>\n",
       "      <td>1</td>\n",
       "      <td>10486945</td>\n",
       "      <td>16.592</td>\n",
       "      <td>18.58</td>\n",
       "      <td>18.53</td>\n",
       "      <td>1.120</td>\n",
       "    </tr>\n",
       "    <tr>\n",
       "      <th>2</th>\n",
       "      <td>2</td>\n",
       "      <td>2978683</td>\n",
       "      <td>24.130</td>\n",
       "      <td>39.72</td>\n",
       "      <td>38.12</td>\n",
       "      <td>1.650</td>\n",
       "    </tr>\n",
       "    <tr>\n",
       "      <th>3</th>\n",
       "      <td>2</td>\n",
       "      <td>3739484</td>\n",
       "      <td>23.950</td>\n",
       "      <td>47.21</td>\n",
       "      <td>45.99</td>\n",
       "      <td>1.970</td>\n",
       "    </tr>\n",
       "    <tr>\n",
       "      <th>4</th>\n",
       "      <td>2</td>\n",
       "      <td>40533</td>\n",
       "      <td>1.000</td>\n",
       "      <td>2.77</td>\n",
       "      <td>2.77</td>\n",
       "      <td>2.570</td>\n",
       "    </tr>\n",
       "  </tbody>\n",
       "</table>\n",
       "</div>"
      ],
      "text/plain": [
       "   utility_id_ferc1  fuel_qty_burned  fuel_mmbtu_per_unit  \\\n",
       "0                 1          5377489               16.590   \n",
       "1                 1         10486945               16.592   \n",
       "2                 2          2978683               24.130   \n",
       "3                 2          3739484               23.950   \n",
       "4                 2            40533                1.000   \n",
       "\n",
       "   fuel_cost_per_unit_burned  fuel_cost_per_unit_delivered  \\\n",
       "0                      18.59                         18.53   \n",
       "1                      18.58                         18.53   \n",
       "2                      39.72                         38.12   \n",
       "3                      47.21                         45.99   \n",
       "4                       2.77                          2.77   \n",
       "\n",
       "   fuel_cost_per_mmbtu  \n",
       "0                1.121  \n",
       "1                1.120  \n",
       "2                1.650  \n",
       "3                1.970  \n",
       "4                2.570  "
      ]
     },
     "execution_count": 8,
     "metadata": {},
     "output_type": "execute_result"
    }
   ],
   "source": [
    "outlier_features = fuel_qual.select_dtypes(include=[np.number]).drop('report_year', axis = 1)\n",
    "outlier_features.head()"
   ]
  },
  {
   "cell_type": "code",
   "execution_count": 9,
   "metadata": {},
   "outputs": [
    {
     "data": {
      "text/plain": [
       "Index(['utility_id_ferc1', 'fuel_qty_burned', 'fuel_mmbtu_per_unit',\n",
       "       'fuel_cost_per_unit_burned', 'fuel_cost_per_unit_delivered',\n",
       "       'fuel_cost_per_mmbtu'],\n",
       "      dtype='object')"
      ]
     },
     "execution_count": 9,
     "metadata": {},
     "output_type": "execute_result"
    }
   ],
   "source": [
    "outlier_features.columns"
   ]
  },
  {
   "cell_type": "code",
   "execution_count": 10,
   "metadata": {},
   "outputs": [
    {
     "data": {
      "image/png": "[encoded data removed]",
      "text/plain": [
       "<Figure size 720x432 with 1 Axes>"
      ]
     },
     "metadata": {
      "needs_background": "light"
     },
     "output_type": "display_data"
    }
   ],
   "source": [
    "outlier_features.plot(kind = 'box',\n",
    "                      vert = False,\n",
    "              figsize = (10, 6))\n",
    "plt.title('Outlier Detection')\n",
    "plt.tight_layout()"
   ]
  },
  {
   "cell_type": "code",
   "execution_count": 11,
   "metadata": {},
   "outputs": [
    {
     "data": {
      "text/html": [
       "<div>\n",
       "<style scoped>\n",
       "    .dataframe tbody tr th:only-of-type {\n",
       "        vertical-align: middle;\n",
       "    }\n",
       "\n",
       "    .dataframe tbody tr th {\n",
       "        vertical-align: top;\n",
       "    }\n",
       "\n",
       "    .dataframe thead th {\n",
       "        text-align: right;\n",
       "    }\n",
       "</style>\n",
       "<table border=\"1\" class=\"dataframe\">\n",
       "  <thead>\n",
       "    <tr style=\"text-align: right;\">\n",
       "      <th></th>\n",
       "      <th>record_id</th>\n",
       "      <th>plant_name_ferc1</th>\n",
       "      <th>fuel_type_code_pudl</th>\n",
       "      <th>fuel_unit</th>\n",
       "    </tr>\n",
       "  </thead>\n",
       "  <tbody>\n",
       "    <tr>\n",
       "      <th>count</th>\n",
       "      <td>29523</td>\n",
       "      <td>29523</td>\n",
       "      <td>29523</td>\n",
       "      <td>29343</td>\n",
       "    </tr>\n",
       "    <tr>\n",
       "      <th>unique</th>\n",
       "      <td>29523</td>\n",
       "      <td>2315</td>\n",
       "      <td>6</td>\n",
       "      <td>9</td>\n",
       "    </tr>\n",
       "    <tr>\n",
       "      <th>top</th>\n",
       "      <td>f1_fuel_2007_12_157_0_11</td>\n",
       "      <td>big stone</td>\n",
       "      <td>gas</td>\n",
       "      <td>mcf</td>\n",
       "    </tr>\n",
       "    <tr>\n",
       "      <th>freq</th>\n",
       "      <td>1</td>\n",
       "      <td>156</td>\n",
       "      <td>11486</td>\n",
       "      <td>11354</td>\n",
       "    </tr>\n",
       "  </tbody>\n",
       "</table>\n",
       "</div>"
      ],
      "text/plain": [
       "                       record_id plant_name_ferc1 fuel_type_code_pudl  \\\n",
       "count                      29523            29523               29523   \n",
       "unique                     29523             2315                   6   \n",
       "top     f1_fuel_2007_12_157_0_11        big stone                 gas   \n",
       "freq                           1              156               11486   \n",
       "\n",
       "       fuel_unit  \n",
       "count      29343  \n",
       "unique         9  \n",
       "top          mcf  \n",
       "freq       11354  "
      ]
     },
     "execution_count": 11,
     "metadata": {},
     "output_type": "execute_result"
    }
   ],
   "source": [
    "#Summary statistics of the categorical features\n",
    "fuel_qual.describe(include = 'object')"
   ]
  },
  {
   "cell_type": "code",
   "execution_count": 12,
   "metadata": {},
   "outputs": [
    {
     "data": {
      "image/png": "[encoded data removed]",
      "text/plain": [
       "<Figure size 1080x360 with 2 Axes>"
      ]
     },
     "metadata": {
      "needs_background": "light"
     },
     "output_type": "display_data"
    }
   ],
   "source": [
    "fig, ax = plt.subplots(1,2, figsize = (15,5))\n",
    "sns.countplot(fuel_qual['fuel_type_code_pudl'], ax = ax[0])\n",
    "sns.countplot(fuel_qual['fuel_unit'], ax = ax[1])\n",
    "ax[0].title.set_text('Fuel Types')\n",
    "ax[1].title.set_text('The Unit of Fuel')\n",
    "plt.tight_layout()"
   ]
  },
  {
   "cell_type": "code",
   "execution_count": 13,
   "metadata": {},
   "outputs": [
    {
     "data": {
      "text/plain": [
       "Text(0.5, 1.0, 'Distribution of The Plant Names')"
      ]
     },
     "execution_count": 13,
     "metadata": {},
     "output_type": "execute_result"
    },
    {
     "data": {
      "image/png": "[encoded data removed]",
      "text/plain": [
       "<Figure size 1800x720 with 1 Axes>"
      ]
     },
     "metadata": {
      "needs_background": "light"
     },
     "output_type": "display_data"
    }
   ],
   "source": [
    "fuel_qual.plant_name_ferc1.value_counts().plot(kind = 'hist',\n",
    "                                              figsize = (25,10),\n",
    "                                              bins = 40,\n",
    "                                              alpha = 0.45)\n",
    "plt.title('Distribution of The Plant Names', fontsize = 22)"
   ]
  },
  {
   "cell_type": "code",
   "execution_count": 14,
   "metadata": {},
   "outputs": [
    {
     "data": {
      "text/plain": [
       "15.850690077422112"
      ]
     },
     "execution_count": 14,
     "metadata": {},
     "output_type": "execute_result"
    }
   ],
   "source": [
    "#To check the skewness of the fuel quantity burned\n",
    "stats.skew(fuel_qual.fuel_qty_burned)"
   ]
  },
  {
   "cell_type": "code",
   "execution_count": 15,
   "metadata": {},
   "outputs": [
    {
     "data": {
      "text/plain": [
       "651.2589365474387"
      ]
     },
     "execution_count": 15,
     "metadata": {},
     "output_type": "execute_result"
    }
   ],
   "source": [
    "#To check the kurtosis of the fuel quantity burned\n",
    "stats.kurtosis(fuel_qual.fuel_qty_burned)"
   ]
  },
  {
   "cell_type": "markdown",
   "metadata": {},
   "source": [
    "### Missing Values"
   ]
  },
  {
   "cell_type": "code",
   "execution_count": 16,
   "metadata": {},
   "outputs": [
    {
     "name": "stdout",
     "output_type": "stream",
     "text": [
      "<class 'pandas.core.frame.DataFrame'>\n",
      "RangeIndex: 29523 entries, 0 to 29522\n",
      "Data columns (total 11 columns):\n",
      " #   Column                        Non-Null Count  Dtype  \n",
      "---  ------                        --------------  -----  \n",
      " 0   record_id                     29523 non-null  object \n",
      " 1   utility_id_ferc1              29523 non-null  int64  \n",
      " 2   report_year                   29523 non-null  int64  \n",
      " 3   plant_name_ferc1              29523 non-null  object \n",
      " 4   fuel_type_code_pudl           29523 non-null  object \n",
      " 5   fuel_unit                     29343 non-null  object \n",
      " 6   fuel_qty_burned               29523 non-null  int64  \n",
      " 7   fuel_mmbtu_per_unit           29523 non-null  float64\n",
      " 8   fuel_cost_per_unit_burned     29523 non-null  float64\n",
      " 9   fuel_cost_per_unit_delivered  29523 non-null  float64\n",
      " 10  fuel_cost_per_mmbtu           29523 non-null  float64\n",
      "dtypes: float64(4), int64(3), object(4)\n",
      "memory usage: 2.5+ MB\n"
     ]
    }
   ],
   "source": [
    "#Checking data information and data types\n",
    "fuel_qual.info()"
   ]
  },
  {
   "cell_type": "code",
   "execution_count": 17,
   "metadata": {},
   "outputs": [
    {
     "data": {
      "text/plain": [
       "record_id                         0\n",
       "utility_id_ferc1                  0\n",
       "report_year                       0\n",
       "plant_name_ferc1                  0\n",
       "fuel_type_code_pudl               0\n",
       "fuel_unit                       180\n",
       "fuel_qty_burned                   0\n",
       "fuel_mmbtu_per_unit               0\n",
       "fuel_cost_per_unit_burned         0\n",
       "fuel_cost_per_unit_delivered      0\n",
       "fuel_cost_per_mmbtu               0\n",
       "dtype: int64"
      ]
     },
     "execution_count": 17,
     "metadata": {},
     "output_type": "execute_result"
    }
   ],
   "source": [
    "#To check the sum of the missing values\n",
    "fuel_qual.isnull().sum()"
   ]
  },
  {
   "cell_type": "code",
   "execution_count": 18,
   "metadata": {},
   "outputs": [
    {
     "data": {
      "text/plain": [
       "fuel_unit                       0.609694\n",
       "fuel_cost_per_mmbtu             0.000000\n",
       "fuel_cost_per_unit_delivered    0.000000\n",
       "fuel_cost_per_unit_burned       0.000000\n",
       "fuel_mmbtu_per_unit             0.000000\n",
       "fuel_qty_burned                 0.000000\n",
       "fuel_type_code_pudl             0.000000\n",
       "plant_name_ferc1                0.000000\n",
       "report_year                     0.000000\n",
       "utility_id_ferc1                0.000000\n",
       "record_id                       0.000000\n",
       "dtype: float64"
      ]
     },
     "execution_count": 18,
     "metadata": {},
     "output_type": "execute_result"
    }
   ],
   "source": [
    "#To check the percentage of the missing values and sort them\n",
    "missing_value = (fuel_qual.isnull().sum()) / len(fuel_qual) * 100\n",
    "missing_value.sort_values(ascending= False)"
   ]
  },
  {
   "cell_type": "code",
   "execution_count": 19,
   "metadata": {},
   "outputs": [
    {
     "data": {
      "text/plain": [
       "ModeResult(mode=array(['mcf'], dtype=object), count=array([11354]))"
      ]
     },
     "execution_count": 19,
     "metadata": {},
     "output_type": "execute_result"
    }
   ],
   "source": [
    "#Since the missing data is a categorical data, mode is the best to fill the dataset\n",
    "stats.mode(fuel_qual.fuel_unit)"
   ]
  },
  {
   "cell_type": "code",
   "execution_count": 20,
   "metadata": {},
   "outputs": [],
   "source": [
    "fuel_qual.fuel_unit.fillna('mcf', inplace=True)"
   ]
  },
  {
   "cell_type": "code",
   "execution_count": 21,
   "metadata": {},
   "outputs": [
    {
     "data": {
      "text/plain": [
       "record_id                       0\n",
       "utility_id_ferc1                0\n",
       "report_year                     0\n",
       "plant_name_ferc1                0\n",
       "fuel_type_code_pudl             0\n",
       "fuel_unit                       0\n",
       "fuel_qty_burned                 0\n",
       "fuel_mmbtu_per_unit             0\n",
       "fuel_cost_per_unit_burned       0\n",
       "fuel_cost_per_unit_delivered    0\n",
       "fuel_cost_per_mmbtu             0\n",
       "dtype: int64"
      ]
     },
     "execution_count": 21,
     "metadata": {},
     "output_type": "execute_result"
    }
   ],
   "source": [
    "fuel_qual.isnull().sum()"
   ]
  },
  {
   "cell_type": "code",
   "execution_count": 22,
   "metadata": {},
   "outputs": [
    {
     "data": {
      "text/plain": [
       "<matplotlib.axes._subplots.AxesSubplot at 0xfbb9f39ec8>"
      ]
     },
     "execution_count": 22,
     "metadata": {},
     "output_type": "execute_result"
    },
    {
     "data": {
      "image/png": "[encoded data removed]",
      "text/plain": [
       "<Figure size 1296x576 with 2 Axes>"
      ]
     },
     "metadata": {
      "needs_background": "light"
     },
     "output_type": "display_data"
    }
   ],
   "source": [
    "#Features correlation\n",
    "f, ax = plt.subplots(figsize = (18,8))\n",
    "plt.title('Correlation Among All Numerical Features', fontsize = 20)\n",
    "sns.heatmap(fuel_qual.corr(), annot = True)"
   ]
  },
  {
   "cell_type": "code",
   "execution_count": 23,
   "metadata": {},
   "outputs": [
    {
     "data": {
      "text/plain": [
       "fuel_cost_per_unit_burned       1.000000\n",
       "report_year                     0.013599\n",
       "fuel_cost_per_unit_delivered    0.011007\n",
       "fuel_cost_per_mmbtu            -0.000437\n",
       "fuel_mmbtu_per_unit            -0.010034\n",
       "fuel_qty_burned                -0.018535\n",
       "utility_id_ferc1               -0.037863\n",
       "Name: fuel_cost_per_unit_burned, dtype: float64"
      ]
     },
     "execution_count": 23,
     "metadata": {},
     "output_type": "execute_result"
    }
   ],
   "source": [
    "#features correlation with respect to fuel cost per unit burned\n",
    "fuel_qual_corr = fuel_qual.corr()\n",
    "fuel_qual_corr = fuel_qual_corr.fuel_cost_per_unit_burned.sort_values(ascending = False)\n",
    "fuel_qual_corr"
   ]
  },
  {
   "cell_type": "code",
   "execution_count": 24,
   "metadata": {},
   "outputs": [],
   "source": [
    "#creating more features\n",
    "fuel_qual['total_cost_fuel_burned'] = fuel_qual.fuel_qty_burned * fuel_qual.fuel_cost_per_unit_burned\n",
    "fuel_qual['total_cost_mmbtu_fuel'] = fuel_qual.fuel_mmbtu_per_unit * fuel_qual.fuel_cost_per_mmbtu\n",
    "fuel_qual['percent_fuel_cost_per_unit_burned'] = fuel_qual.fuel_cost_per_unit_burned.value_counts(normalize=True) * 100"
   ]
  },
  {
   "cell_type": "code",
   "execution_count": 25,
   "metadata": {},
   "outputs": [
    {
     "data": {
      "text/html": [
       "<div>\n",
       "<style scoped>\n",
       "    .dataframe tbody tr th:only-of-type {\n",
       "        vertical-align: middle;\n",
       "    }\n",
       "\n",
       "    .dataframe tbody tr th {\n",
       "        vertical-align: top;\n",
       "    }\n",
       "\n",
       "    .dataframe thead th {\n",
       "        text-align: right;\n",
       "    }\n",
       "</style>\n",
       "<table border=\"1\" class=\"dataframe\">\n",
       "  <thead>\n",
       "    <tr style=\"text-align: right;\">\n",
       "      <th></th>\n",
       "      <th>record_id</th>\n",
       "      <th>utility_id_ferc1</th>\n",
       "      <th>report_year</th>\n",
       "      <th>plant_name_ferc1</th>\n",
       "      <th>fuel_type_code_pudl</th>\n",
       "      <th>fuel_unit</th>\n",
       "      <th>fuel_qty_burned</th>\n",
       "      <th>fuel_mmbtu_per_unit</th>\n",
       "      <th>fuel_cost_per_unit_burned</th>\n",
       "      <th>fuel_cost_per_unit_delivered</th>\n",
       "      <th>fuel_cost_per_mmbtu</th>\n",
       "      <th>total_cost_fuel_burned</th>\n",
       "      <th>total_cost_mmbtu_fuel</th>\n",
       "      <th>percent_fuel_cost_per_unit_burned</th>\n",
       "    </tr>\n",
       "  </thead>\n",
       "  <tbody>\n",
       "    <tr>\n",
       "      <th>0</th>\n",
       "      <td>f1_fuel_1994_12_1_0_7</td>\n",
       "      <td>1</td>\n",
       "      <td>1994</td>\n",
       "      <td>rockport</td>\n",
       "      <td>coal</td>\n",
       "      <td>ton</td>\n",
       "      <td>5377489</td>\n",
       "      <td>16.590</td>\n",
       "      <td>18.59</td>\n",
       "      <td>18.53</td>\n",
       "      <td>1.121</td>\n",
       "      <td>9.996752e+07</td>\n",
       "      <td>18.59739</td>\n",
       "      <td>0.975511</td>\n",
       "    </tr>\n",
       "    <tr>\n",
       "      <th>1</th>\n",
       "      <td>f1_fuel_1994_12_1_0_10</td>\n",
       "      <td>1</td>\n",
       "      <td>1994</td>\n",
       "      <td>rockport total plant</td>\n",
       "      <td>coal</td>\n",
       "      <td>ton</td>\n",
       "      <td>10486945</td>\n",
       "      <td>16.592</td>\n",
       "      <td>18.58</td>\n",
       "      <td>18.53</td>\n",
       "      <td>1.120</td>\n",
       "      <td>1.948474e+08</td>\n",
       "      <td>18.58304</td>\n",
       "      <td>0.003387</td>\n",
       "    </tr>\n",
       "    <tr>\n",
       "      <th>2</th>\n",
       "      <td>f1_fuel_1994_12_2_0_1</td>\n",
       "      <td>2</td>\n",
       "      <td>1994</td>\n",
       "      <td>gorgas</td>\n",
       "      <td>coal</td>\n",
       "      <td>ton</td>\n",
       "      <td>2978683</td>\n",
       "      <td>24.130</td>\n",
       "      <td>39.72</td>\n",
       "      <td>38.12</td>\n",
       "      <td>1.650</td>\n",
       "      <td>1.183133e+08</td>\n",
       "      <td>39.81450</td>\n",
       "      <td>0.013549</td>\n",
       "    </tr>\n",
       "    <tr>\n",
       "      <th>3</th>\n",
       "      <td>f1_fuel_1994_12_2_0_7</td>\n",
       "      <td>2</td>\n",
       "      <td>1994</td>\n",
       "      <td>barry</td>\n",
       "      <td>coal</td>\n",
       "      <td>ton</td>\n",
       "      <td>3739484</td>\n",
       "      <td>23.950</td>\n",
       "      <td>47.21</td>\n",
       "      <td>45.99</td>\n",
       "      <td>1.970</td>\n",
       "      <td>1.765410e+08</td>\n",
       "      <td>47.18150</td>\n",
       "      <td>0.033872</td>\n",
       "    </tr>\n",
       "    <tr>\n",
       "      <th>4</th>\n",
       "      <td>f1_fuel_1994_12_2_0_10</td>\n",
       "      <td>2</td>\n",
       "      <td>1994</td>\n",
       "      <td>chickasaw</td>\n",
       "      <td>gas</td>\n",
       "      <td>mcf</td>\n",
       "      <td>40533</td>\n",
       "      <td>1.000</td>\n",
       "      <td>2.77</td>\n",
       "      <td>2.77</td>\n",
       "      <td>2.570</td>\n",
       "      <td>1.122764e+05</td>\n",
       "      <td>2.57000</td>\n",
       "      <td>0.033872</td>\n",
       "    </tr>\n",
       "  </tbody>\n",
       "</table>\n",
       "</div>"
      ],
      "text/plain": [
       "                record_id  utility_id_ferc1  report_year  \\\n",
       "0   f1_fuel_1994_12_1_0_7                 1         1994   \n",
       "1  f1_fuel_1994_12_1_0_10                 1         1994   \n",
       "2   f1_fuel_1994_12_2_0_1                 2         1994   \n",
       "3   f1_fuel_1994_12_2_0_7                 2         1994   \n",
       "4  f1_fuel_1994_12_2_0_10                 2         1994   \n",
       "\n",
       "       plant_name_ferc1 fuel_type_code_pudl fuel_unit  fuel_qty_burned  \\\n",
       "0              rockport                coal       ton          5377489   \n",
       "1  rockport total plant                coal       ton         10486945   \n",
       "2                gorgas                coal       ton          2978683   \n",
       "3                 barry                coal       ton          3739484   \n",
       "4             chickasaw                 gas       mcf            40533   \n",
       "\n",
       "   fuel_mmbtu_per_unit  fuel_cost_per_unit_burned  \\\n",
       "0               16.590                      18.59   \n",
       "1               16.592                      18.58   \n",
       "2               24.130                      39.72   \n",
       "3               23.950                      47.21   \n",
       "4                1.000                       2.77   \n",
       "\n",
       "   fuel_cost_per_unit_delivered  fuel_cost_per_mmbtu  total_cost_fuel_burned  \\\n",
       "0                         18.53                1.121            9.996752e+07   \n",
       "1                         18.53                1.120            1.948474e+08   \n",
       "2                         38.12                1.650            1.183133e+08   \n",
       "3                         45.99                1.970            1.765410e+08   \n",
       "4                          2.77                2.570            1.122764e+05   \n",
       "\n",
       "   total_cost_mmbtu_fuel  percent_fuel_cost_per_unit_burned  \n",
       "0               18.59739                           0.975511  \n",
       "1               18.58304                           0.003387  \n",
       "2               39.81450                           0.013549  \n",
       "3               47.18150                           0.033872  \n",
       "4                2.57000                           0.033872  "
      ]
     },
     "execution_count": 25,
     "metadata": {},
     "output_type": "execute_result"
    }
   ],
   "source": [
    "fuel_qual.head()"
   ]
  },
  {
   "cell_type": "code",
   "execution_count": 26,
   "metadata": {},
   "outputs": [
    {
     "data": {
      "text/html": [
       "<div>\n",
       "<style scoped>\n",
       "    .dataframe tbody tr th:only-of-type {\n",
       "        vertical-align: middle;\n",
       "    }\n",
       "\n",
       "    .dataframe tbody tr th {\n",
       "        vertical-align: top;\n",
       "    }\n",
       "\n",
       "    .dataframe thead th {\n",
       "        text-align: right;\n",
       "    }\n",
       "</style>\n",
       "<table border=\"1\" class=\"dataframe\">\n",
       "  <thead>\n",
       "    <tr style=\"text-align: right;\">\n",
       "      <th></th>\n",
       "      <th>utility_id_ferc1</th>\n",
       "      <th>fuel_qty_burned</th>\n",
       "      <th>fuel_mmbtu_per_unit</th>\n",
       "      <th>fuel_cost_per_unit_burned</th>\n",
       "      <th>fuel_cost_per_unit_delivered</th>\n",
       "      <th>fuel_cost_per_mmbtu</th>\n",
       "      <th>total_cost_fuel_burned</th>\n",
       "      <th>total_cost_mmbtu_fuel</th>\n",
       "      <th>percent_fuel_cost_per_unit_burned</th>\n",
       "    </tr>\n",
       "    <tr>\n",
       "      <th>report_year</th>\n",
       "      <th></th>\n",
       "      <th></th>\n",
       "      <th></th>\n",
       "      <th></th>\n",
       "      <th></th>\n",
       "      <th></th>\n",
       "      <th></th>\n",
       "      <th></th>\n",
       "      <th></th>\n",
       "    </tr>\n",
       "  </thead>\n",
       "  <tbody>\n",
       "    <tr>\n",
       "      <th>1994</th>\n",
       "      <td>131059</td>\n",
       "      <td>3364162841</td>\n",
       "      <td>13138.05</td>\n",
       "      <td>263292.12</td>\n",
       "      <td>78590.53</td>\n",
       "      <td>3812.42</td>\n",
       "      <td>5.327818e+10</td>\n",
       "      <td>23787.96</td>\n",
       "      <td>1.45</td>\n",
       "    </tr>\n",
       "    <tr>\n",
       "      <th>1995</th>\n",
       "      <td>132277</td>\n",
       "      <td>4458192116</td>\n",
       "      <td>12784.44</td>\n",
       "      <td>425661.49</td>\n",
       "      <td>39315.06</td>\n",
       "      <td>3445.47</td>\n",
       "      <td>6.613160e+10</td>\n",
       "      <td>21007.28</td>\n",
       "      <td>0.00</td>\n",
       "    </tr>\n",
       "    <tr>\n",
       "      <th>1996</th>\n",
       "      <td>118281</td>\n",
       "      <td>2768692878</td>\n",
       "      <td>11726.51</td>\n",
       "      <td>86425.28</td>\n",
       "      <td>10006016.07</td>\n",
       "      <td>2933.12</td>\n",
       "      <td>2.588083e+10</td>\n",
       "      <td>20605.82</td>\n",
       "      <td>0.00</td>\n",
       "    </tr>\n",
       "    <tr>\n",
       "      <th>1997</th>\n",
       "      <td>118553</td>\n",
       "      <td>3077972763</td>\n",
       "      <td>11210.91</td>\n",
       "      <td>163533.45</td>\n",
       "      <td>12187375.78</td>\n",
       "      <td>3406.15</td>\n",
       "      <td>1.203283e+11</td>\n",
       "      <td>19764.35</td>\n",
       "      <td>0.01</td>\n",
       "    </tr>\n",
       "    <tr>\n",
       "      <th>1998</th>\n",
       "      <td>121599</td>\n",
       "      <td>3617070075</td>\n",
       "      <td>11850.39</td>\n",
       "      <td>140238.66</td>\n",
       "      <td>317879.94</td>\n",
       "      <td>3072.88</td>\n",
       "      <td>5.542562e+10</td>\n",
       "      <td>17321.63</td>\n",
       "      <td>0.00</td>\n",
       "    </tr>\n",
       "    <tr>\n",
       "      <th>1999</th>\n",
       "      <td>113634</td>\n",
       "      <td>3445344906</td>\n",
       "      <td>11086.83</td>\n",
       "      <td>126056.28</td>\n",
       "      <td>26829.21</td>\n",
       "      <td>2877.26</td>\n",
       "      <td>1.545287e+11</td>\n",
       "      <td>15824.33</td>\n",
       "      <td>0.00</td>\n",
       "    </tr>\n",
       "    <tr>\n",
       "      <th>2000</th>\n",
       "      <td>152518</td>\n",
       "      <td>3394100198</td>\n",
       "      <td>12665.20</td>\n",
       "      <td>326495.43</td>\n",
       "      <td>1352903.23</td>\n",
       "      <td>5778.14</td>\n",
       "      <td>3.450366e+11</td>\n",
       "      <td>28798.14</td>\n",
       "      <td>0.00</td>\n",
       "    </tr>\n",
       "    <tr>\n",
       "      <th>2001</th>\n",
       "      <td>153935</td>\n",
       "      <td>3147821459</td>\n",
       "      <td>11351.71</td>\n",
       "      <td>180365.64</td>\n",
       "      <td>81428.34</td>\n",
       "      <td>6254.76</td>\n",
       "      <td>1.598751e+11</td>\n",
       "      <td>30821.73</td>\n",
       "      <td>0.00</td>\n",
       "    </tr>\n",
       "    <tr>\n",
       "      <th>2002</th>\n",
       "      <td>145027</td>\n",
       "      <td>2585502144</td>\n",
       "      <td>10007.32</td>\n",
       "      <td>121921.13</td>\n",
       "      <td>57351.21</td>\n",
       "      <td>7502.67</td>\n",
       "      <td>2.797661e+10</td>\n",
       "      <td>25516.60</td>\n",
       "      <td>0.00</td>\n",
       "    </tr>\n",
       "    <tr>\n",
       "      <th>2003</th>\n",
       "      <td>149317</td>\n",
       "      <td>2287120859</td>\n",
       "      <td>10176.94</td>\n",
       "      <td>149175.73</td>\n",
       "      <td>67408.49</td>\n",
       "      <td>8748.18</td>\n",
       "      <td>8.944137e+10</td>\n",
       "      <td>29348.75</td>\n",
       "      <td>0.00</td>\n",
       "    </tr>\n",
       "    <tr>\n",
       "      <th>2004</th>\n",
       "      <td>144379</td>\n",
       "      <td>2124796599</td>\n",
       "      <td>9932.25</td>\n",
       "      <td>184637.70</td>\n",
       "      <td>166312.94</td>\n",
       "      <td>10062.38</td>\n",
       "      <td>3.082205e+10</td>\n",
       "      <td>32068.77</td>\n",
       "      <td>0.00</td>\n",
       "    </tr>\n",
       "    <tr>\n",
       "      <th>2005</th>\n",
       "      <td>153585</td>\n",
       "      <td>2244703463</td>\n",
       "      <td>10324.55</td>\n",
       "      <td>135924.14</td>\n",
       "      <td>52585.06</td>\n",
       "      <td>11924.89</td>\n",
       "      <td>3.576725e+10</td>\n",
       "      <td>43206.41</td>\n",
       "      <td>0.00</td>\n",
       "    </tr>\n",
       "    <tr>\n",
       "      <th>2006</th>\n",
       "      <td>145653</td>\n",
       "      <td>2432878751</td>\n",
       "      <td>10115.65</td>\n",
       "      <td>188142.03</td>\n",
       "      <td>48051.25</td>\n",
       "      <td>12852.49</td>\n",
       "      <td>5.175484e+10</td>\n",
       "      <td>48674.63</td>\n",
       "      <td>0.00</td>\n",
       "    </tr>\n",
       "    <tr>\n",
       "      <th>2007</th>\n",
       "      <td>146675</td>\n",
       "      <td>2573119217</td>\n",
       "      <td>10146.86</td>\n",
       "      <td>256114.31</td>\n",
       "      <td>54762.83</td>\n",
       "      <td>13569.27</td>\n",
       "      <td>4.255527e+10</td>\n",
       "      <td>52298.21</td>\n",
       "      <td>0.00</td>\n",
       "    </tr>\n",
       "    <tr>\n",
       "      <th>2008</th>\n",
       "      <td>148324</td>\n",
       "      <td>2513046864</td>\n",
       "      <td>9692.43</td>\n",
       "      <td>314312.02</td>\n",
       "      <td>71946.31</td>\n",
       "      <td>15583.46</td>\n",
       "      <td>6.710322e+10</td>\n",
       "      <td>60640.54</td>\n",
       "      <td>0.00</td>\n",
       "    </tr>\n",
       "    <tr>\n",
       "      <th>2009</th>\n",
       "      <td>144366</td>\n",
       "      <td>2633401233</td>\n",
       "      <td>9394.97</td>\n",
       "      <td>263584.57</td>\n",
       "      <td>797592.27</td>\n",
       "      <td>12976.88</td>\n",
       "      <td>1.287465e+11</td>\n",
       "      <td>52683.01</td>\n",
       "      <td>0.00</td>\n",
       "    </tr>\n",
       "    <tr>\n",
       "      <th>2010</th>\n",
       "      <td>148789</td>\n",
       "      <td>3056311520</td>\n",
       "      <td>9552.09</td>\n",
       "      <td>331581.47</td>\n",
       "      <td>115838.12</td>\n",
       "      <td>10783.09</td>\n",
       "      <td>1.669333e+11</td>\n",
       "      <td>55225.56</td>\n",
       "      <td>0.00</td>\n",
       "    </tr>\n",
       "    <tr>\n",
       "      <th>2011</th>\n",
       "      <td>150126</td>\n",
       "      <td>3052051818</td>\n",
       "      <td>9654.87</td>\n",
       "      <td>374175.60</td>\n",
       "      <td>74120.59</td>\n",
       "      <td>11454.61</td>\n",
       "      <td>3.922681e+10</td>\n",
       "      <td>61511.43</td>\n",
       "      <td>0.00</td>\n",
       "    </tr>\n",
       "    <tr>\n",
       "      <th>2012</th>\n",
       "      <td>150117</td>\n",
       "      <td>3414637324</td>\n",
       "      <td>9690.51</td>\n",
       "      <td>321693.54</td>\n",
       "      <td>75816.17</td>\n",
       "      <td>10949.47</td>\n",
       "      <td>3.630333e+10</td>\n",
       "      <td>65112.07</td>\n",
       "      <td>0.00</td>\n",
       "    </tr>\n",
       "    <tr>\n",
       "      <th>2013</th>\n",
       "      <td>146377</td>\n",
       "      <td>3287064860</td>\n",
       "      <td>9348.63</td>\n",
       "      <td>306933.24</td>\n",
       "      <td>206596.80</td>\n",
       "      <td>11160.56</td>\n",
       "      <td>3.954033e+10</td>\n",
       "      <td>63433.40</td>\n",
       "      <td>0.00</td>\n",
       "    </tr>\n",
       "    <tr>\n",
       "      <th>2014</th>\n",
       "      <td>151368</td>\n",
       "      <td>3161709843</td>\n",
       "      <td>8885.94</td>\n",
       "      <td>518002.47</td>\n",
       "      <td>225695.24</td>\n",
       "      <td>11785.73</td>\n",
       "      <td>5.465713e+10</td>\n",
       "      <td>62669.20</td>\n",
       "      <td>0.00</td>\n",
       "    </tr>\n",
       "    <tr>\n",
       "      <th>2015</th>\n",
       "      <td>140551</td>\n",
       "      <td>3650763433</td>\n",
       "      <td>7889.08</td>\n",
       "      <td>260060.98</td>\n",
       "      <td>356903.31</td>\n",
       "      <td>8803.42</td>\n",
       "      <td>3.209296e+10</td>\n",
       "      <td>48066.97</td>\n",
       "      <td>0.00</td>\n",
       "    </tr>\n",
       "    <tr>\n",
       "      <th>2016</th>\n",
       "      <td>137643</td>\n",
       "      <td>3818861165</td>\n",
       "      <td>7079.26</td>\n",
       "      <td>255484.81</td>\n",
       "      <td>107434.42</td>\n",
       "      <td>7150.74</td>\n",
       "      <td>2.917157e+10</td>\n",
       "      <td>37711.37</td>\n",
       "      <td>0.01</td>\n",
       "    </tr>\n",
       "    <tr>\n",
       "      <th>2017</th>\n",
       "      <td>130209</td>\n",
       "      <td>3329380211</td>\n",
       "      <td>6733.88</td>\n",
       "      <td>244557.82</td>\n",
       "      <td>45873.48</td>\n",
       "      <td>366155.20</td>\n",
       "      <td>2.731576e+10</td>\n",
       "      <td>37276.28</td>\n",
       "      <td>0.01</td>\n",
       "    </tr>\n",
       "    <tr>\n",
       "      <th>2018</th>\n",
       "      <td>127120</td>\n",
       "      <td>3974123939</td>\n",
       "      <td>6273.32</td>\n",
       "      <td>221575.43</td>\n",
       "      <td>474805.74</td>\n",
       "      <td>6879.19</td>\n",
       "      <td>3.004026e+10</td>\n",
       "      <td>35498.02</td>\n",
       "      <td>0.02</td>\n",
       "    </tr>\n",
       "  </tbody>\n",
       "</table>\n",
       "</div>"
      ],
      "text/plain": [
       "             utility_id_ferc1  fuel_qty_burned  fuel_mmbtu_per_unit  \\\n",
       "report_year                                                           \n",
       "1994                   131059       3364162841             13138.05   \n",
       "1995                   132277       4458192116             12784.44   \n",
       "1996                   118281       2768692878             11726.51   \n",
       "1997                   118553       3077972763             11210.91   \n",
       "1998                   121599       3617070075             11850.39   \n",
       "1999                   113634       3445344906             11086.83   \n",
       "2000                   152518       3394100198             12665.20   \n",
       "2001                   153935       3147821459             11351.71   \n",
       "2002                   145027       2585502144             10007.32   \n",
       "2003                   149317       2287120859             10176.94   \n",
       "2004                   144379       2124796599              9932.25   \n",
       "2005                   153585       2244703463             10324.55   \n",
       "2006                   145653       2432878751             10115.65   \n",
       "2007                   146675       2573119217             10146.86   \n",
       "2008                   148324       2513046864              9692.43   \n",
       "2009                   144366       2633401233              9394.97   \n",
       "2010                   148789       3056311520              9552.09   \n",
       "2011                   150126       3052051818              9654.87   \n",
       "2012                   150117       3414637324              9690.51   \n",
       "2013                   146377       3287064860              9348.63   \n",
       "2014                   151368       3161709843              8885.94   \n",
       "2015                   140551       3650763433              7889.08   \n",
       "2016                   137643       3818861165              7079.26   \n",
       "2017                   130209       3329380211              6733.88   \n",
       "2018                   127120       3974123939              6273.32   \n",
       "\n",
       "             fuel_cost_per_unit_burned  fuel_cost_per_unit_delivered  \\\n",
       "report_year                                                            \n",
       "1994                         263292.12                      78590.53   \n",
       "1995                         425661.49                      39315.06   \n",
       "1996                          86425.28                   10006016.07   \n",
       "1997                         163533.45                   12187375.78   \n",
       "1998                         140238.66                     317879.94   \n",
       "1999                         126056.28                      26829.21   \n",
       "2000                         326495.43                    1352903.23   \n",
       "2001                         180365.64                      81428.34   \n",
       "2002                         121921.13                      57351.21   \n",
       "2003                         149175.73                      67408.49   \n",
       "2004                         184637.70                     166312.94   \n",
       "2005                         135924.14                      52585.06   \n",
       "2006                         188142.03                      48051.25   \n",
       "2007                         256114.31                      54762.83   \n",
       "2008                         314312.02                      71946.31   \n",
       "2009                         263584.57                     797592.27   \n",
       "2010                         331581.47                     115838.12   \n",
       "2011                         374175.60                      74120.59   \n",
       "2012                         321693.54                      75816.17   \n",
       "2013                         306933.24                     206596.80   \n",
       "2014                         518002.47                     225695.24   \n",
       "2015                         260060.98                     356903.31   \n",
       "2016                         255484.81                     107434.42   \n",
       "2017                         244557.82                      45873.48   \n",
       "2018                         221575.43                     474805.74   \n",
       "\n",
       "             fuel_cost_per_mmbtu  total_cost_fuel_burned  \\\n",
       "report_year                                                \n",
       "1994                     3812.42            5.327818e+10   \n",
       "1995                     3445.47            6.613160e+10   \n",
       "1996                     2933.12            2.588083e+10   \n",
       "1997                     3406.15            1.203283e+11   \n",
       "1998                     3072.88            5.542562e+10   \n",
       "1999                     2877.26            1.545287e+11   \n",
       "2000                     5778.14            3.450366e+11   \n",
       "2001                     6254.76            1.598751e+11   \n",
       "2002                     7502.67            2.797661e+10   \n",
       "2003                     8748.18            8.944137e+10   \n",
       "2004                    10062.38            3.082205e+10   \n",
       "2005                    11924.89            3.576725e+10   \n",
       "2006                    12852.49            5.175484e+10   \n",
       "2007                    13569.27            4.255527e+10   \n",
       "2008                    15583.46            6.710322e+10   \n",
       "2009                    12976.88            1.287465e+11   \n",
       "2010                    10783.09            1.669333e+11   \n",
       "2011                    11454.61            3.922681e+10   \n",
       "2012                    10949.47            3.630333e+10   \n",
       "2013                    11160.56            3.954033e+10   \n",
       "2014                    11785.73            5.465713e+10   \n",
       "2015                     8803.42            3.209296e+10   \n",
       "2016                     7150.74            2.917157e+10   \n",
       "2017                   366155.20            2.731576e+10   \n",
       "2018                     6879.19            3.004026e+10   \n",
       "\n",
       "             total_cost_mmbtu_fuel  percent_fuel_cost_per_unit_burned  \n",
       "report_year                                                            \n",
       "1994                      23787.96                               1.45  \n",
       "1995                      21007.28                               0.00  \n",
       "1996                      20605.82                               0.00  \n",
       "1997                      19764.35                               0.01  \n",
       "1998                      17321.63                               0.00  \n",
       "1999                      15824.33                               0.00  \n",
       "2000                      28798.14                               0.00  \n",
       "2001                      30821.73                               0.00  \n",
       "2002                      25516.60                               0.00  \n",
       "2003                      29348.75                               0.00  \n",
       "2004                      32068.77                               0.00  \n",
       "2005                      43206.41                               0.00  \n",
       "2006                      48674.63                               0.00  \n",
       "2007                      52298.21                               0.00  \n",
       "2008                      60640.54                               0.00  \n",
       "2009                      52683.01                               0.00  \n",
       "2010                      55225.56                               0.00  \n",
       "2011                      61511.43                               0.00  \n",
       "2012                      65112.07                               0.00  \n",
       "2013                      63433.40                               0.00  \n",
       "2014                      62669.20                               0.00  \n",
       "2015                      48066.97                               0.00  \n",
       "2016                      37711.37                               0.01  \n",
       "2017                      37276.28                               0.01  \n",
       "2018                      35498.02                               0.02  "
      ]
     },
     "execution_count": 26,
     "metadata": {},
     "output_type": "execute_result"
    }
   ],
   "source": [
    "groupby_year = fuel_qual.groupby('report_year').sum().round(decimals = 2)\n",
    "groupby_year"
   ]
  },
  {
   "cell_type": "code",
   "execution_count": 27,
   "metadata": {},
   "outputs": [
    {
     "data": {
      "text/plain": [
       "Text(0.5, 1.0, 'Fuel Cost Per Unit Burned Over Years With Respect to Fuel Types')"
      ]
     },
     "execution_count": 27,
     "metadata": {},
     "output_type": "execute_result"
    },
    {
     "data": {
      "image/png": "[encoded data removed]",
      "text/plain": [
       "<Figure size 1296x576 with 1 Axes>"
      ]
     },
     "metadata": {
      "needs_background": "light"
     },
     "output_type": "display_data"
    }
   ],
   "source": [
    "f, ax = plt.subplots(figsize = (18,8))\n",
    "sns.lineplot(x = 'report_year', y = 'fuel_cost_per_unit_burned', hue = 'fuel_type_code_pudl',  data = fuel_qual, alpha = 0.8)\n",
    "plt.title('Fuel Cost Per Unit Burned Over Years With Respect to Fuel Types')"
   ]
  },
  {
   "cell_type": "code",
   "execution_count": null,
   "metadata": {},
   "outputs": [],
   "source": []
  }
 ],
 "metadata": {
  "kernelspec": {
   "display_name": "Python 3",
   "language": "python",
   "name": "python3"
  },
  "language_info": {
   "codemirror_mode": {
    "name": "ipython",
    "version": 3
   },
   "file_extension": ".py",
   "mimetype": "text/x-python",
   "name": "python",
   "nbconvert_exporter": "python",
   "pygments_lexer": "ipython3",
   "version": "3.7.7"
  }
 },
 "nbformat": 4,
 "nbformat_minor": 4
}
